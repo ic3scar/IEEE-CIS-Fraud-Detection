{
 "cells": [
  {
   "cell_type": "code",
   "execution_count": 1,
   "metadata": {},
   "outputs": [],
   "source": [
    "import pandas as pd\n",
    "import numpy as np\n",
    "import matplotlib.pyplot as plt\n",
    "import scipy as sp\n",
    "from scipy import stats\n",
    "from sklearn import preprocessing\n",
    "import seaborn as sns\n",
    "import pickle\n",
    "from sklearn.decomposition import PCA\n",
    "from sklearn.preprocessing import LabelEncoder, StandardScaler, minmax_scale\n",
    "from sklearn.feature_selection import RFECV"
   ]
  },
  {
   "cell_type": "code",
   "execution_count": 2,
   "metadata": {},
   "outputs": [],
   "source": [
    "def reduce_mem_usage(df, verbose=True):\n",
    "    numerics = ['int16', 'int32', 'int64', 'float16', 'float32', 'float64']\n",
    "    start_mem = df.memory_usage().sum() / 1024**2    \n",
    "    for col in df.columns:\n",
    "        col_type = df[col].dtypes\n",
    "        if col_type in numerics:\n",
    "            c_min = df[col].min()\n",
    "            c_max = df[col].max()\n",
    "            if str(col_type)[:3] == 'int':\n",
    "                if c_min > np.iinfo(np.int8).min and c_max < np.iinfo(np.int8).max:\n",
    "                    df[col] = df[col].astype(np.int8)\n",
    "                elif c_min > np.iinfo(np.int16).min and c_max < np.iinfo(np.int16).max:\n",
    "                    df[col] = df[col].astype(np.int16)\n",
    "                elif c_min > np.iinfo(np.int32).min and c_max < np.iinfo(np.int32).max:\n",
    "                    df[col] = df[col].astype(np.int32)\n",
    "                elif c_min > np.iinfo(np.int64).min and c_max < np.iinfo(np.int64).max:\n",
    "                    df[col] = df[col].astype(np.int64)  \n",
    "            else:\n",
    "                if c_min > np.finfo(np.float16).min and c_max < np.finfo(np.float16).max:\n",
    "                    df[col] = df[col].astype(np.float16)\n",
    "                elif c_min > np.finfo(np.float32).min and c_max < np.finfo(np.float32).max:\n",
    "                    df[col] = df[col].astype(np.float32)\n",
    "                else:\n",
    "                    df[col] = df[col].astype(np.float64)    \n",
    "    end_mem = df.memory_usage().sum() / 1024**2\n",
    "    if verbose: \n",
    "        print('Mem. usage decreased to {:5.2f} Mb ({:.1f}% reduction)'.format(end_mem, 100 * (start_mem - end_mem) / start_mem))\n",
    "    return df\n",
    "\n",
    "# Seen from https://www.kaggle.com/kabure/almost-complete-feature-engineering-ieee-data#V-Features\n",
    "def PCA_change(df, cols, n_components, prefix='PCA_', rand_seed=4):\n",
    "    pca = PCA(n_components=n_components, random_state=rand_seed)\n",
    "\n",
    "    principalComponents = pca.fit_transform(df[cols])\n",
    "\n",
    "    principalDf = pd.DataFrame(principalComponents)\n",
    "\n",
    "    df.drop(cols, axis=1, inplace=True)\n",
    "\n",
    "    principalDf.rename(columns=lambda x: str(prefix)+str(x), inplace=True)\n",
    "\n",
    "    df = pd.concat([df, principalDf], axis=1)\n",
    "    \n",
    "    return df\n",
    "\n",
    "def resumetable(df):\n",
    "    print(f\"Dataset Shape: {df.shape}\")\n",
    "    summary = pd.DataFrame(df.dtypes,columns=['dtypes'])\n",
    "    summary = summary.reset_index()\n",
    "    summary['Name'] = summary['index']\n",
    "    summary = summary[['Name','dtypes']]\n",
    "    summary['Missing'] = df.isnull().sum().values    \n",
    "    summary['Uniques'] = df.nunique().values\n",
    "    summary['First Value'] = df.loc[0].values\n",
    "    summary['Second Value'] = df.loc[1].values\n",
    "    summary['Third Value'] = df.loc[2].values\n",
    "\n",
    "    for name in summary['Name'].value_counts().index:\n",
    "        # print(name)\n",
    "        summary.loc[summary['Name'] == name, 'Entropy'] = round(stats.entropy(df[name].value_counts(normalize=True), base=2),2) \n",
    "\n",
    "    return summary"
   ]
  },
  {
   "cell_type": "code",
   "execution_count": 3,
   "metadata": {},
   "outputs": [],
   "source": [
    "df_identity_train = pd.read_csv(\"../Data/train_identity.csv\")\n",
    "df_transaction_train = pd.read_csv(\"../Data/train_transaction.csv\")\n",
    "df_identity_test = pd.read_csv(\"../Data/test_identity.csv\")\n",
    "df_transaction_test = pd.read_csv(\"../Data/test_transaction.csv\")\n",
    "df_train = pd.merge(df_transaction_train, df_identity_train, how = \"left\", on = \"TransactionID\")\n",
    "df_test = pd.merge(df_transaction_test, df_identity_test, how = \"left\", on = \"TransactionID\")"
   ]
  },
  {
   "cell_type": "code",
   "execution_count": 4,
   "metadata": {},
   "outputs": [],
   "source": [
    "pd.set_option(\"display.max_rows\", 500)"
   ]
  },
  {
   "cell_type": "code",
   "execution_count": 5,
   "metadata": {},
   "outputs": [
    {
     "name": "stdout",
     "output_type": "stream",
     "text": [
      "shape of df_identity_train:  (144233, 41)\n",
      "shape of df_transaction_train:  (590540, 394)\n",
      "shape of df_train:  (590540, 434)\n"
     ]
    }
   ],
   "source": [
    "print(\"shape of df_identity_train: \", df_identity_train.shape)\n",
    "print(\"shape of df_transaction_train: \", df_transaction_train.shape)\n",
    "print(\"shape of df_train: \", df_train.shape)"
   ]
  },
  {
   "cell_type": "code",
   "execution_count": 6,
   "metadata": {},
   "outputs": [],
   "source": [
    "del df_identity_train, df_transaction_train, df_identity_test, df_transaction_test"
   ]
  },
  {
   "cell_type": "code",
   "execution_count": 7,
   "metadata": {},
   "outputs": [
    {
     "name": "stdout",
     "output_type": "stream",
     "text": [
      "TransactionID 2987000 3663549 3577539 4170239\n",
      "TransactionDT 86400 18403224 15811131 34214345\n",
      "TransactionAmt 0.251 0.018000000000000002 31937.391 10270.0\n",
      "card1 1000 1001 18396 18397\n",
      "card2 100.0 100.0 600.0 600.0\n",
      "card3 100.0 100.0 231.0 232.0\n",
      "card5 100.0 100.0 237.0 237.0\n",
      "addr1 100.0 100.0 540.0 540.0\n",
      "addr2 10.0 10.0 102.0 102.0\n",
      "dist1 0.0 0.0 10286.0 8081.0\n",
      "dist2 0.0 0.0 11623.0 9213.0\n",
      "C1 0.0 0.0 4685.0 2950.0\n",
      "C2 0.0 0.0 5691.0 3275.0\n",
      "C3 0.0 0.0 26.0 31.0\n",
      "C4 0.0 0.0 2253.0 1601.0\n",
      "C5 0.0 0.0 349.0 376.0\n",
      "C6 0.0 0.0 2253.0 1601.0\n",
      "C7 0.0 0.0 2255.0 1621.0\n",
      "C8 0.0 0.0 3331.0 1005.0\n",
      "C9 0.0 0.0 210.0 572.0\n",
      "C10 0.0 0.0 3257.0 881.0\n",
      "C11 0.0 0.0 3188.0 2234.0\n",
      "C12 0.0 0.0 3188.0 2234.0\n",
      "C13 0.0 0.0 2918.0 1562.0\n",
      "C14 0.0 0.0 1429.0 797.0\n",
      "D1 0.0 0.0 640.0 641.0\n",
      "D2 0.0 0.0 640.0 641.0\n",
      "D3 0.0 0.0 819.0 1076.0\n",
      "D4 -122.0 0.0 869.0 1091.0\n",
      "D5 0.0 0.0 819.0 1088.0\n",
      "D6 -83.0 0.0 873.0 1091.0\n",
      "D7 0.0 0.0 843.0 1088.0\n",
      "D8 0.0 0.0 1707.7916259765625 2029.5833740234373\n",
      "D9 0.0 0.0 0.9583330154418944 0.9583330154418944\n",
      "D10 0.0 0.0 876.0 1091.0\n",
      "D11 -53.0 0.0 670.0 883.0\n",
      "D12 -83.0 0.0 648.0 879.0\n",
      "D13 0.0 0.0 847.0 1066.0\n",
      "D14 -193.0 0.0 878.0 1085.0\n",
      "D15 -83.0 0.0 879.0 1091.0\n",
      "V1 0.0 0.0 1.0 1.0\n",
      "V2 0.0 0.0 8.0 11.0\n",
      "V3 0.0 0.0 9.0 11.0\n",
      "V4 0.0 0.0 6.0 10.0\n",
      "V5 0.0 0.0 6.0 10.0\n",
      "V6 0.0 0.0 9.0 13.0\n",
      "V7 0.0 0.0 9.0 13.0\n",
      "V8 0.0 0.0 8.0 11.0\n",
      "V9 0.0 0.0 8.0 11.0\n",
      "V10 0.0 0.0 4.0 5.0\n",
      "V11 0.0 0.0 5.0 7.0\n",
      "V12 0.0 0.0 3.0 4.0\n",
      "V13 0.0 0.0 6.0 6.0\n",
      "V14 0.0 0.0 1.0 1.0\n",
      "V15 0.0 0.0 7.0 13.0\n",
      "V16 0.0 0.0 15.0 25.0\n",
      "V17 0.0 0.0 15.0 10.0\n",
      "V18 0.0 0.0 15.0 10.0\n",
      "V19 0.0 0.0 7.0 13.0\n",
      "V20 0.0 0.0 15.0 25.0\n",
      "V21 0.0 0.0 5.0 5.0\n",
      "V22 0.0 0.0 8.0 7.0\n",
      "V23 0.0 0.0 13.0 15.0\n",
      "V24 0.0 0.0 13.0 29.0\n",
      "V25 0.0 0.0 7.0 13.0\n",
      "V26 0.0 0.0 13.0 25.0\n",
      "V27 0.0 0.0 4.0 7.0\n",
      "V28 0.0 0.0 4.0 7.0\n",
      "V29 0.0 0.0 5.0 4.0\n",
      "V30 0.0 0.0 9.0 7.0\n",
      "V31 0.0 0.0 7.0 13.0\n",
      "V32 0.0 0.0 15.0 25.0\n",
      "V33 0.0 0.0 7.0 13.0\n",
      "V34 0.0 0.0 13.0 25.0\n",
      "V35 0.0 0.0 3.0 4.0\n",
      "V36 0.0 0.0 5.0 6.0\n",
      "V37 0.0 0.0 54.0 49.0\n",
      "V38 0.0 0.0 54.0 52.0\n",
      "V39 0.0 0.0 15.0 30.0\n",
      "V40 0.0 0.0 24.0 31.0\n",
      "V41 0.0 0.0 1.0 1.0\n",
      "V42 0.0 0.0 8.0 8.0\n",
      "V43 0.0 0.0 8.0 11.0\n",
      "V44 0.0 0.0 48.0 47.0\n",
      "V45 0.0 0.0 48.0 69.0\n",
      "V46 0.0 0.0 6.0 8.0\n",
      "V47 0.0 0.0 12.0 11.0\n",
      "V48 0.0 0.0 5.0 4.0\n",
      "V49 0.0 0.0 5.0 7.0\n",
      "V50 0.0 0.0 5.0 7.0\n",
      "V51 0.0 0.0 6.0 8.0\n",
      "V52 0.0 0.0 12.0 10.0\n",
      "V53 0.0 0.0 5.0 5.0\n",
      "V54 0.0 0.0 6.0 7.0\n",
      "V55 0.0 0.0 17.0 49.0\n",
      "V56 0.0 0.0 51.0 51.0\n",
      "V57 0.0 0.0 6.0 6.0\n",
      "V58 0.0 0.0 10.0 10.0\n",
      "V59 0.0 0.0 16.0 12.0\n",
      "V60 0.0 0.0 16.0 17.0\n",
      "V61 0.0 0.0 6.0 6.0\n",
      "V62 0.0 0.0 10.0 10.0\n",
      "V63 0.0 0.0 7.0 8.0\n",
      "V64 0.0 0.0 7.0 10.0\n",
      "V65 0.0 0.0 1.0 1.0\n",
      "V66 0.0 0.0 7.0 8.0\n",
      "V67 0.0 0.0 8.0 10.0\n",
      "V68 0.0 0.0 2.0 7.0\n",
      "V69 0.0 0.0 5.0 4.0\n",
      "V70 0.0 0.0 6.0 8.0\n",
      "V71 0.0 0.0 6.0 6.0\n",
      "V72 0.0 0.0 10.0 10.0\n",
      "V73 0.0 0.0 7.0 8.0\n",
      "V74 0.0 0.0 8.0 10.0\n",
      "V75 0.0 0.0 4.0 5.0\n",
      "V76 0.0 0.0 6.0 7.0\n",
      "V77 0.0 0.0 30.0 80.0\n",
      "V78 0.0 0.0 31.0 80.0\n",
      "V79 0.0 0.0 7.0 7.0\n",
      "V80 0.0 0.0 19.0 18.0\n",
      "V81 0.0 0.0 19.0 18.0\n",
      "V82 0.0 0.0 7.0 5.0\n",
      "V83 0.0 0.0 7.0 7.0\n",
      "V84 0.0 0.0 7.0 10.0\n",
      "V85 0.0 0.0 7.0 10.0\n",
      "V86 0.0 0.0 30.0 80.0\n",
      "V87 0.0 0.0 30.0 80.0\n",
      "V88 0.0 0.0 1.0 1.0\n",
      "V89 0.0 0.0 2.0 7.0\n",
      "V90 0.0 0.0 5.0 4.0\n",
      "V91 0.0 0.0 6.0 8.0\n",
      "V92 0.0 0.0 7.0 6.0\n",
      "V93 0.0 0.0 7.0 7.0\n",
      "V94 0.0 0.0 2.0 2.0\n",
      "V95 0.0 0.0 880.0 60.0\n",
      "V96 0.0 0.0 1410.0 103.0\n",
      "V97 0.0 0.0 976.0 82.0\n",
      "V98 0.0 0.0 12.0 8.0\n",
      "V99 0.0 0.0 88.0 62.0\n",
      "V100 0.0 0.0 28.0 30.0\n",
      "V101 0.0 0.0 869.0 18.0\n",
      "V102 0.0 0.0 1285.0 68.0\n",
      "V103 0.0 0.0 928.0 29.0\n",
      "V104 0.0 0.0 15.0 59.0\n",
      "V105 0.0 0.0 99.0 99.0\n",
      "V106 0.0 0.0 55.0 80.0\n",
      "V107 0.0 1.0 1.0 1.0\n",
      "V108 0.0 0.0 7.0 8.0\n",
      "V109 0.0 0.0 7.0 8.0\n",
      "V110 0.0 0.0 7.0 8.0\n",
      "V111 0.0 0.0 9.0 8.0\n",
      "V112 0.0 0.0 9.0 8.0\n",
      "V113 0.0 0.0 9.0 8.0\n",
      "V114 0.0 0.0 6.0 9.0\n",
      "V115 0.0 0.0 6.0 9.0\n",
      "V116 0.0 0.0 6.0 9.0\n",
      "V117 0.0 0.0 3.0 2.0\n",
      "V118 0.0 0.0 3.0 3.0\n",
      "V119 0.0 0.0 3.0 2.0\n",
      "V120 0.0 0.0 3.0 4.0\n",
      "V121 0.0 0.0 3.0 4.0\n",
      "V122 0.0 0.0 3.0 4.0\n",
      "V123 0.0 0.0 13.0 12.0\n",
      "V124 0.0 0.0 13.0 13.0\n",
      "V125 0.0 0.0 13.0 12.0\n",
      "V126 0.0 0.0 160000.0 519038.5\n",
      "V127 0.0 0.0 160000.0 544500.0\n",
      "V128 0.0 0.0 160000.0 519038.5\n",
      "V129 0.0 0.0 55125.0 64800.0\n",
      "V130 0.0 0.0 55125.0 167200.0\n",
      "V131 0.0 0.0 55125.0 167200.0\n",
      "V132 0.0 0.0 93736.0 519038.5\n",
      "V133 0.0 0.0 133915.0 519038.5\n",
      "V134 0.0 0.0 98476.0 519038.5\n",
      "V135 0.0 0.0 90750.0 302500.0\n",
      "V136 0.0 0.0 90750.0 302500.0\n",
      "V137 0.0 0.0 90750.0 302500.0\n",
      "V138 0.0 0.0 22.0 20.0\n",
      "V139 0.0 0.0 33.0 28.0\n",
      "V140 0.0 0.0 33.0 59.0\n",
      "V141 0.0 0.0 5.0 6.0\n",
      "V142 0.0 0.0 9.0 11.0\n",
      "V143 0.0 0.0 869.0 56.0\n",
      "V144 0.0 0.0 62.0 85.0\n",
      "V145 0.0 0.0 297.0 279.0\n",
      "V146 0.0 0.0 24.0 12.0\n",
      "V147 0.0 0.0 26.0 22.0\n",
      "V148 0.0 0.0 20.0 11.0\n",
      "V149 0.0 0.0 20.0 11.0\n",
      "V150 1.0 1.0 3389.0 2277.0\n",
      "V151 1.0 1.0 57.0 58.0\n",
      "V152 1.0 1.0 69.0 67.0\n",
      "V153 0.0 0.0 18.0 8.0\n",
      "V154 0.0 0.0 18.0 9.0\n",
      "V155 0.0 0.0 24.0 11.0\n",
      "V156 0.0 0.0 24.0 11.0\n",
      "V157 0.0 0.0 24.0 13.0\n",
      "V158 0.0 0.0 24.0 13.0\n",
      "V159 0.0 0.0 55125.0 284129.8125\n",
      "V160 0.0 0.0 641511.4375 3867868.5\n",
      "V161 0.0 0.0 3300.0 2000.0\n",
      "V162 0.0 0.0 3300.0 4000.0\n",
      "V163 0.0 0.0 3300.0 4000.0\n",
      "V164 0.0 0.0 93736.0 928882.0\n",
      "V165 0.0 0.0 98476.0 928882.0\n",
      "V166 0.0 0.0 104060.0 453750.0\n",
      "V167 0.0 0.0 872.0 238.0\n",
      "V168 0.0 0.0 964.0 257.0\n",
      "V169 0.0 0.0 19.0 39.0\n",
      "V170 0.0 0.0 48.0 63.0\n",
      "V171 0.0 0.0 61.0 68.0\n",
      "V172 0.0 0.0 31.0 37.0\n",
      "V173 0.0 0.0 7.0 9.0\n",
      "V174 0.0 0.0 8.0 6.0\n",
      "V175 0.0 0.0 14.0 22.0\n",
      "V176 0.0 1.0 48.0 239.0\n",
      "V177 0.0 0.0 861.0 238.0\n",
      "V178 0.0 0.0 1235.0 257.0\n",
      "V179 0.0 0.0 920.0 257.0\n",
      "V180 0.0 0.0 83.0 179.0\n",
      "V181 0.0 0.0 24.0 85.0\n",
      "V182 0.0 0.0 83.0 125.0\n",
      "V183 0.0 0.0 41.0 106.0\n",
      "V184 0.0 0.0 16.0 12.0\n",
      "V185 0.0 0.0 31.0 12.0\n",
      "V186 0.0 0.0 38.0 39.0\n",
      "V187 0.0 0.0 218.0 158.0\n",
      "V188 0.0 0.0 30.0 44.0\n",
      "V189 0.0 0.0 30.0 44.0\n",
      "V190 0.0 0.0 42.0 224.0\n",
      "V191 0.0 0.0 21.0 20.0\n",
      "V192 0.0 0.0 44.0 37.0\n",
      "V193 0.0 0.0 37.0 32.0\n",
      "V194 0.0 0.0 7.0 7.0\n",
      "V195 0.0 0.0 16.0 18.0\n",
      "V196 0.0 0.0 38.0 41.0\n",
      "V197 0.0 0.0 14.0 11.0\n",
      "V198 0.0 0.0 21.0 29.0\n",
      "V199 0.0 0.0 45.0 224.0\n",
      "V200 0.0 0.0 45.0 47.0\n",
      "V201 0.0 0.0 55.0 47.0\n",
      "V202 0.0 0.0 104060.0 1065496.5\n",
      "V203 0.0 0.0 139777.0 1065496.5\n",
      "V204 0.0 0.0 104060.0 1065496.5\n",
      "V205 0.0 0.0 55125.0 64800.0\n",
      "V206 0.0 0.0 55125.0 64800.0\n",
      "V207 0.0 0.0 55125.0 167200.0\n",
      "V208 0.0 0.0 3300.0 4000.0\n",
      "V209 0.0 0.0 8050.0 10000.0\n",
      "V210 0.0 0.0 3300.0 4000.0\n",
      "V211 0.0 0.0 92888.0 928882.0\n",
      "V212 0.0 0.0 129006.0 958320.0\n",
      "V213 0.0 0.0 97628.0 928882.0\n",
      "V214 0.0 0.0 104060.0 453750.0\n",
      "V215 0.0 0.0 104060.0 756250.0\n",
      "V216 0.0 0.0 104060.0 756250.0\n",
      "V217 0.0 0.0 303.0 238.0\n",
      "V218 0.0 0.0 400.0 290.0\n",
      "V219 0.0 0.0 378.0 290.0\n",
      "V220 0.0 0.0 25.0 47.0\n",
      "V221 0.0 0.0 384.0 140.0\n",
      "V222 0.0 0.0 384.0 291.0\n",
      "V223 0.0 0.0 16.0 11.0\n",
      "V224 0.0 0.0 144.0 91.0\n",
      "V225 0.0 0.0 51.0 58.0\n",
      "V226 0.0 0.0 242.0 870.0\n",
      "V227 0.0 0.0 360.0 131.0\n",
      "V228 0.0 1.0 54.0 239.0\n",
      "V229 0.0 1.0 176.0 262.0\n",
      "V230 0.0 1.0 65.0 262.0\n",
      "V231 0.0 0.0 293.0 238.0\n",
      "V232 0.0 0.0 337.0 290.0\n",
      "V233 0.0 0.0 332.0 290.0\n",
      "V234 0.0 0.0 121.0 322.0\n",
      "V235 0.0 0.0 23.0 18.0\n",
      "V236 0.0 0.0 45.0 57.0\n",
      "V237 0.0 0.0 39.0 31.0\n",
      "V238 0.0 0.0 23.0 12.0\n",
      "V239 0.0 0.0 23.0 12.0\n",
      "V240 0.0 1.0 7.0 6.0\n",
      "V241 0.0 1.0 5.0 3.0\n",
      "V242 0.0 0.0 20.0 27.0\n",
      "V243 0.0 0.0 57.0 54.0\n",
      "V244 0.0 0.0 22.0 33.0\n",
      "V245 0.0 0.0 262.0 124.0\n",
      "V246 0.0 0.0 45.0 224.0\n",
      "V247 0.0 0.0 18.0 11.0\n",
      "V248 0.0 0.0 36.0 29.0\n",
      "V249 0.0 0.0 22.0 19.0\n",
      "V250 0.0 0.0 18.0 8.0\n",
      "V251 0.0 0.0 18.0 12.0\n",
      "V252 0.0 0.0 24.0 21.0\n",
      "V253 0.0 0.0 163.0 96.0\n",
      "V254 0.0 0.0 60.0 39.0\n",
      "V255 0.0 0.0 87.0 53.0\n",
      "V256 0.0 0.0 87.0 53.0\n",
      "V257 0.0 0.0 48.0 224.0\n",
      "V258 0.0 0.0 66.0 269.0\n",
      "V259 0.0 0.0 285.0 131.0\n",
      "V260 0.0 0.0 8.0 14.0\n",
      "V261 0.0 0.0 49.0 89.0\n",
      "V262 0.0 0.0 20.0 34.0\n",
      "V263 0.0 0.0 153600.0 1065496.5\n",
      "V264 0.0 0.0 153600.0 1065496.5\n",
      "V265 0.0 0.0 153600.0 1065496.5\n",
      "V266 0.0 0.0 55125.0 64800.0\n",
      "V267 0.0 0.0 55125.0 64800.0\n",
      "V268 0.0 0.0 55125.0 64800.0\n",
      "V269 0.0 0.0 55125.0 64800.0\n",
      "V270 0.0 0.0 4000.0 10791.5703125\n",
      "V271 0.0 0.0 4000.0 10791.5703125\n",
      "V272 0.0 0.0 4000.0 10791.5703125\n",
      "V273 0.0 0.0 51200.0 928882.0\n",
      "V274 0.0 0.0 66000.0 928882.0\n",
      "V275 0.0 0.0 51200.0 928882.0\n",
      "V276 0.0 0.0 104060.0 453750.0\n",
      "V277 0.0 0.0 104060.0 756250.0\n",
      "V278 0.0 0.0 104060.0 756250.0\n",
      "V279 0.0 0.0 880.0 86.0\n",
      "V280 0.0 0.0 975.0 108.0\n",
      "V281 0.0 0.0 22.0 30.0\n",
      "V282 0.0 0.0 32.0 63.0\n",
      "V283 0.0 0.0 68.0 68.0\n",
      "V284 0.0 0.0 12.0 8.0\n",
      "V285 0.0 0.0 95.0 90.0\n",
      "V286 0.0 0.0 8.0 6.0\n",
      "V287 0.0 0.0 31.0 31.0\n",
      "V288 0.0 0.0 10.0 6.0\n",
      "V289 0.0 0.0 12.0 11.0\n",
      "V290 1.0 1.0 67.0 49.0\n",
      "V291 1.0 1.0 1055.0 250.0\n",
      "V292 1.0 1.0 323.0 75.0\n",
      "V293 0.0 0.0 869.0 62.0\n",
      "V294 0.0 0.0 1286.0 246.0\n",
      "V295 0.0 0.0 928.0 78.0\n",
      "V296 0.0 0.0 93.0 179.0\n",
      "V297 0.0 0.0 12.0 85.0\n",
      "V298 0.0 0.0 93.0 125.0\n",
      "V299 0.0 0.0 49.0 106.0\n",
      "V300 0.0 0.0 11.0 14.0\n",
      "V301 0.0 0.0 13.0 14.0\n",
      "V302 0.0 0.0 16.0 13.0\n",
      "V303 0.0 0.0 20.0 17.0\n",
      "V304 0.0 0.0 16.0 17.0\n",
      "V305 1.0 1.0 2.0 2.0\n",
      "V306 0.0 0.0 108800.0 718740.0\n",
      "V307 0.0 0.0 145765.0 958320.0\n",
      "V308 0.0 0.0 108800.0 718740.0\n",
      "V309 0.0 0.0 55125.0 64800.0\n"
     ]
    },
    {
     "name": "stdout",
     "output_type": "stream",
     "text": [
      "V310 0.0 0.0 55125.0 167200.0\n",
      "V311 0.0 0.0 55125.0 64800.0\n",
      "V312 0.0 0.0 55125.0 167200.0\n",
      "V313 0.0 0.0 4817.47021484375 4727.9599609375\n",
      "V314 0.0 0.0 7519.8701171875 7539.75\n",
      "V315 0.0 0.0 4817.47021484375 4727.9599609375\n",
      "V316 0.0 0.0 93736.0 718740.0\n",
      "V317 0.0 0.0 134021.0 958320.0\n",
      "V318 0.0 0.0 98476.0 718740.0\n",
      "V319 0.0 0.0 104060.0 453750.0\n",
      "V320 0.0 0.0 104060.0 605000.0\n",
      "V321 0.0 0.0 104060.0 605000.0\n",
      "V322 0.0 0.0 880.0 86.0\n",
      "V323 0.0 0.0 1411.0 128.0\n",
      "V324 0.0 0.0 976.0 108.0\n",
      "V325 0.0 0.0 12.0 8.0\n",
      "V326 0.0 0.0 44.0 44.0\n",
      "V327 0.0 0.0 18.0 31.0\n",
      "V328 0.0 0.0 15.0 85.0\n",
      "V329 0.0 0.0 99.0 125.0\n",
      "V330 0.0 0.0 55.0 106.0\n",
      "V331 0.0 0.0 160000.0 1040657.5\n",
      "V332 0.0 0.0 160000.0 1040657.5\n",
      "V333 0.0 0.0 160000.0 1040657.5\n",
      "V334 0.0 0.0 55125.0 64800.0\n",
      "V335 0.0 0.0 55125.0 64800.0\n",
      "V336 0.0 0.0 55125.0 64800.0\n",
      "V337 0.0 0.0 104060.0 375000.0\n",
      "V338 0.0 0.0 104060.0 612500.0\n",
      "V339 0.0 0.0 104060.0 612500.0\n",
      "id_01 -100.0 -100.0 0.0 0.0\n",
      "id_02 1.0 2.0 999595.0 999869.0\n",
      "id_03 -13.0 -12.0 10.0 11.0\n",
      "id_04 -28.0 -19.0 0.0 0.0\n",
      "id_05 -72.0 -81.0 52.0 52.0\n",
      "id_06 -100.0 -100.0 0.0 0.0\n",
      "id_07 -46.0 -41.0 61.0 59.0\n",
      "id_08 -100.0 -100.0 0.0 0.0\n",
      "id_09 -36.0 -32.0 25.0 16.0\n",
      "id_10 -100.0 -100.0 0.0 0.0\n",
      "id_11 90.0 90.0 100.0 100.0\n",
      "id_13 10.0 11.0 64.0 63.0\n",
      "id_14 -660.0 -720.0 720.0 720.0\n",
      "id_17 100.0 100.0 229.0 228.0\n",
      "id_18 10.0 11.0 29.0 29.0\n",
      "id_19 100.0 100.0 671.0 670.0\n",
      "id_20 100.0 100.0 661.0 660.0\n",
      "id_21 100.0 100.0 854.0 854.0\n",
      "id_22 10.0 11.0 44.0 44.0\n",
      "id_24 11.0 10.0 26.0 26.0\n",
      "id_25 100.0 100.0 548.0 549.0\n",
      "id_26 100.0 100.0 216.0 216.0\n",
      "id_32 0.0 8.0 32.0 48.0\n"
     ]
    }
   ],
   "source": [
    "for col in df_test.columns:\n",
    "    if df_test[col].dtype != 'object':\n",
    "        print(col, df_train[col].min(), df_test[col].min(), df_train[col].max(), df_test[col].max())"
   ]
  },
  {
   "cell_type": "code",
   "execution_count": 8,
   "metadata": {},
   "outputs": [
    {
     "name": "stdout",
     "output_type": "stream",
     "text": [
      "['V286', 'id_25', 'id_27', 'dist2', 'isFraud', 'V319', 'V124', 'V26', 'V101', 'V88', 'V118', 'V296', 'V284', 'V65', 'V119', 'V134', 'V316', 'V89', 'id_18', 'V293', 'V14', 'V123', 'id_07', 'V27', 'V28', 'V104', 'V121', 'V320', 'id_08', 'V115', 'V281', 'id_24', 'V297', 'V107', 'V98', 'V137', 'V309', 'V116', 'V68', 'V113', 'V103', 'V290', 'V136', 'V318', 'V25', 'D7', 'V135', 'V117', 'V132', 'V66', 'V321', 'V77', 'V299', 'V114', 'V122', 'V125', 'V120', 'V301', 'V105', 'id_22', 'V133', 'V110', 'V129', 'C3', 'id_21', 'V23', 'V298', 'V311', 'V55', 'V305', 'V112', 'V106', 'V102', 'V295', 'V86', 'V108', 'id_23', 'V109', 'V24', 'V300', 'V111', 'id_26', 'V67']\n"
     ]
    }
   ],
   "source": [
    "one_val_cols =      [col for col in df_train.columns if df_train[col].nunique()<=1] +\\\n",
    "                        [col for col in df_test.columns if df_test[col].nunique()<=1]\n",
    "missing_val_cols =  [col for col in df_train.columns if df_train[col].isnull().sum()/df_train.shape[0]>0.9] +\\\n",
    "                        [col for col in df_test.columns if df_test[col].isnull().sum()/df_test.shape[0]>0.9]\n",
    "same_val_cols =     [col for col in df_train.columns if df_train[col].value_counts(dropna=False, normalize=True).values[0] > 0.9] +\\\n",
    "                        [col for col in df_test.columns if df_test[col].value_counts(dropna=False, normalize=True).values[0] > 0.9]\n",
    "cols_to_drop = list(set(one_val_cols + missing_val_cols + same_val_cols))\n",
    "print(cols_to_drop)\n"
   ]
  },
  {
   "cell_type": "code",
   "execution_count": 9,
   "metadata": {},
   "outputs": [],
   "source": [
    "cols_to_drop.remove('isFraud')"
   ]
  },
  {
   "cell_type": "code",
   "execution_count": null,
   "metadata": {},
   "outputs": [],
   "source": [
    "len(cols_to_drop)"
   ]
  },
  {
   "cell_type": "code",
   "execution_count": null,
   "metadata": {},
   "outputs": [],
   "source": [
    "print(df_train[\"id_30\"].dtype)"
   ]
  },
  {
   "cell_type": "code",
   "execution_count": 10,
   "metadata": {},
   "outputs": [],
   "source": [
    "df_train.drop(cols_to_drop, axis = 1, inplace = True)\n",
    "df_test.drop(cols_to_drop, axis = 1, inplace = True)"
   ]
  },
  {
   "cell_type": "code",
   "execution_count": 11,
   "metadata": {},
   "outputs": [],
   "source": [
    "df_train.fillna(-999, inplace = True)\n",
    "df_test.fillna(-999, inplace = True)"
   ]
  },
  {
   "cell_type": "code",
   "execution_count": null,
   "metadata": {},
   "outputs": [],
   "source": [
    "resumetable(df_train)"
   ]
  },
  {
   "cell_type": "code",
   "execution_count": 12,
   "metadata": {},
   "outputs": [],
   "source": [
    "def make_day_feature(df, offset=0.58, tname='TransactionDT'):\n",
    "    \"\"\"\n",
    "    Creates a day of the week feature, encoded as 0-6.\n",
    "    \"\"\"\n",
    "    days = df[tname] / (3600 * 24)\n",
    "    encoded_days = np.floor(days - 1 + offset) % 7\n",
    "    return encoded_days\n",
    "\n",
    "def make_hour_feature(df, tname='TransactionDT'):\n",
    "    \"\"\"\n",
    "    Creates an hour of the day feature, encoded as 0-23.\n",
    "    \"\"\"\n",
    "    hours = df[tname] / (3600)\n",
    "    encoded_hours = np.floor(hours) % 24\n",
    "    return encoded_hours"
   ]
  },
  {
   "cell_type": "code",
   "execution_count": 13,
   "metadata": {},
   "outputs": [],
   "source": [
    "df_train[\"Weekday\"] = make_day_feature(df_train)\n",
    "df_train[\"Hour\"]= make_hour_feature(df_train)\n",
    "df_test[\"Weekday\"] = make_day_feature(df_test)\n",
    "df_test[\"Hour\"] = make_hour_feature(df_test)"
   ]
  },
  {
   "cell_type": "code",
   "execution_count": null,
   "metadata": {},
   "outputs": [],
   "source": [
    "df_train.dtypes"
   ]
  },
  {
   "cell_type": "code",
   "execution_count": 14,
   "metadata": {},
   "outputs": [],
   "source": [
    "\n",
    "emails = {'gmail': 'google', 'att.net': 'att', 'twc.com': 'spectrum', 'scranton.edu': 'other', \n",
    "          'optonline.net': 'other', 'hotmail.co.uk': 'microsoft', 'comcast.net': 'other', 'yahoo.com.mx': 'yahoo', \n",
    "          'yahoo.fr': 'yahoo', 'yahoo.es': 'yahoo', 'charter.net': 'spectrum', 'live.com': 'microsoft', \n",
    "          'aim.com': 'aol', 'hotmail.de': 'microsoft', 'centurylink.net': 'centurylink', 'gmail.com': 'google', \n",
    "          'me.com': 'apple', 'earthlink.net': 'other', 'gmx.de': 'other', 'web.de': 'other', 'cfl.rr.com': 'other', \n",
    "          'hotmail.com': 'microsoft', 'protonmail.com': 'other', 'hotmail.fr': 'microsoft', 'windstream.net': 'other',\n",
    "          'outlook.es': 'microsoft', 'yahoo.co.jp': 'yahoo', 'yahoo.de': 'yahoo', 'servicios-ta.com': 'other', \n",
    "          'netzero.net': 'other', 'suddenlink.net': 'other', 'roadrunner.com': 'other', 'sc.rr.com': 'other', \n",
    "          'live.fr': 'microsoft', 'verizon.net': 'yahoo', 'msn.com': 'microsoft', 'q.com': 'centurylink', \n",
    "          'prodigy.net.mx': 'att', 'frontier.com': 'yahoo', 'anonymous.com': 'other', \n",
    "          'rocketmail.com': 'yahoo', 'sbcglobal.net': 'att', 'frontiernet.net': 'yahoo', 'ymail.com': 'yahoo', \n",
    "          'outlook.com': 'microsoft', 'mail.com': 'other', 'bellsouth.net': 'other', \n",
    "          'embarqmail.com': 'centurylink', 'cableone.net': 'other', 'hotmail.es': 'microsoft', 'mac.com': 'apple', \n",
    "          'yahoo.co.uk': 'yahoo', 'netzero.com': 'other', 'yahoo.com': 'yahoo', 'live.com.mx': 'microsoft', \n",
    "          'ptd.net': 'other', 'cox.net': 'other', 'aol.com': 'aol', 'juno.com': 'other', 'icloud.com': 'apple',\n",
    "          -999:\"undefined\"}\n",
    "us_emails = ['gmail', 'net', 'edu']\n",
    "# https://www.kaggle.com/c/ieee-fraud-detection/discussion/100499#latest_df-579654\n",
    "for col in ['P_emaildomain', 'R_emaildomain']:\n",
    "    df_train[col + '_pre'] = df_train[col].map(emails)\n",
    "    df_test[col + '_pre'] = df_test[col].map(emails)\n",
    "    \n",
    "    df_train[col + '_suffix'] = df_train[col].map(lambda x: str(x).split('.')[-1])\n",
    "    df_test[col + '_suffix'] = df_test[col].map(lambda x: str(x).split('.')[-1])\n",
    "    \n",
    "    df_train[col + '_suffix'] = df_train[col + '_suffix'].map(lambda x: x if str(x) not in us_emails else 'us')\n",
    "    df_test[col + '_suffix'] = df_test[col + '_suffix'].map(lambda x: x if str(x) not in us_emails else 'us')\n"
   ]
  },
  {
   "cell_type": "code",
   "execution_count": 15,
   "metadata": {},
   "outputs": [
    {
     "data": {
      "text/plain": [
       "array(['-999', 'com', 'us', 'mx', 'es', 'de', 'fr', 'uk', 'jp'],\n",
       "      dtype=object)"
      ]
     },
     "execution_count": 15,
     "metadata": {},
     "output_type": "execute_result"
    }
   ],
   "source": [
    "df_train[\"P_emaildomain_suffix\"].unique()"
   ]
  },
  {
   "cell_type": "code",
   "execution_count": null,
   "metadata": {},
   "outputs": [],
   "source": [
    "for col in df_train.columns:\n",
    "    if col.startswith(\"id\"):\n",
    "        print(col, df_train[col].nunique())\n",
    "        if df_train[col].dtype!='object':\n",
    "            print(df_train[col].nunique(), sorted(df_train[col].unique())[:10])"
   ]
  },
  {
   "cell_type": "code",
   "execution_count": null,
   "metadata": {},
   "outputs": [],
   "source": [
    "df_train.columns[-50:]"
   ]
  },
  {
   "cell_type": "code",
   "execution_count": 16,
   "metadata": {},
   "outputs": [],
   "source": [
    "categorical = [\"ProductCD\", \"card1\", \"card2\", \"card3\", \"card4\", \"card5\", \"card6\", \"addr1\", \"addr2\",\n",
    "               \"P_emaildomain\", \"R_emaildomain\"] +  [\"M\" + str(i) for i in range(1, 10)] +\\\n",
    "                    ['DeviceType', 'DeviceInfo', 'Weekday', 'Hour',\n",
    "                     'P_emaildomain_pre', 'P_emaildomain_suffix', 'R_emaildomain_pre',\n",
    "                     'R_emaildomain_suffix', 'id_12', 'id_13', 'id_14', 'id_15', 'id_16', 'id_17', 'id_19', 'id_20', \n",
    "                     'id_28', 'id_29', 'id_30', 'id_31', 'id_32', 'id_33', 'id_34', 'id_35', 'id_36', 'id_37', 'id_38',]"
   ]
  },
  {
   "cell_type": "code",
   "execution_count": 17,
   "metadata": {},
   "outputs": [],
   "source": [
    "# Label encoding\n",
    "category_counts = {}\n",
    "for col in categorical:\n",
    "    lbl = preprocessing.LabelEncoder()\n",
    "    lbl.fit(list(df_train[col].values) + list(df_test[col].values))\n",
    "    df_train[col] = lbl.transform(list(df_train[col].values))\n",
    "    df_test[col] = lbl.transform(list(df_test[col].values))\n",
    "    category_counts[col] = len(list(lbl.classes_)) + 1"
   ]
  },
  {
   "cell_type": "code",
   "execution_count": 18,
   "metadata": {},
   "outputs": [
    {
     "data": {
      "text/plain": [
       "{'ProductCD': 6,\n",
       " 'card1': 17092,\n",
       " 'card2': 503,\n",
       " 'card3': 135,\n",
       " 'card4': 6,\n",
       " 'card5': 140,\n",
       " 'card6': 6,\n",
       " 'addr1': 443,\n",
       " 'addr2': 95,\n",
       " 'P_emaildomain': 62,\n",
       " 'R_emaildomain': 62,\n",
       " 'M1': 4,\n",
       " 'M2': 4,\n",
       " 'M3': 4,\n",
       " 'M4': 5,\n",
       " 'M5': 4,\n",
       " 'M6': 4,\n",
       " 'M7': 4,\n",
       " 'M8': 4,\n",
       " 'M9': 4,\n",
       " 'DeviceType': 4,\n",
       " 'DeviceInfo': 2801,\n",
       " 'Weekday': 8,\n",
       " 'Hour': 25,\n",
       " 'P_emaildomain_pre': 11,\n",
       " 'P_emaildomain_suffix': 10,\n",
       " 'R_emaildomain_pre': 11,\n",
       " 'R_emaildomain_suffix': 10,\n",
       " 'id_12': 4,\n",
       " 'id_13': 57,\n",
       " 'id_14': 30,\n",
       " 'id_15': 5,\n",
       " 'id_16': 4,\n",
       " 'id_17': 129,\n",
       " 'id_19': 570,\n",
       " 'id_20': 549,\n",
       " 'id_28': 4,\n",
       " 'id_29': 4,\n",
       " 'id_30': 89,\n",
       " 'id_31': 174,\n",
       " 'id_32': 8,\n",
       " 'id_33': 463,\n",
       " 'id_34': 6,\n",
       " 'id_35': 4,\n",
       " 'id_36': 4,\n",
       " 'id_37': 4,\n",
       " 'id_38': 4}"
      ]
     },
     "execution_count": 18,
     "metadata": {},
     "output_type": "execute_result"
    }
   ],
   "source": [
    "category_counts"
   ]
  },
  {
   "cell_type": "code",
   "execution_count": null,
   "metadata": {},
   "outputs": [],
   "source": [
    "for col in categorical:\n",
    "    print(col, df_train[col].nunique(), df_train[col].min(), df_train[col].max())"
   ]
  },
  {
   "cell_type": "code",
   "execution_count": null,
   "metadata": {},
   "outputs": [],
   "source": [
    "print(df_train.columns[-50:])"
   ]
  },
  {
   "cell_type": "code",
   "execution_count": 19,
   "metadata": {},
   "outputs": [],
   "source": [
    "del df_train[\"TransactionID\"]\n",
    "del df_train[\"TransactionDT\"]\n",
    "del df_test[\"TransactionID\"]\n",
    "del df_test[\"TransactionDT\"]"
   ]
  },
  {
   "cell_type": "code",
   "execution_count": null,
   "metadata": {},
   "outputs": [],
   "source": [
    "df_train.shape"
   ]
  },
  {
   "cell_type": "code",
   "execution_count": null,
   "metadata": {},
   "outputs": [],
   "source": [
    "df_test.shape"
   ]
  },
  {
   "cell_type": "code",
   "execution_count": 20,
   "metadata": {},
   "outputs": [
    {
     "name": "stdout",
     "output_type": "stream",
     "text": [
      "Mem. usage decreased to 422.95 Mb (73.7% reduction)\n",
      "Mem. usage decreased to 369.66 Mb (73.1% reduction)\n"
     ]
    }
   ],
   "source": [
    "df_train = reduce_mem_usage(df_train)\n",
    "df_test = reduce_mem_usage(df_test)"
   ]
  },
  {
   "cell_type": "code",
   "execution_count": 21,
   "metadata": {},
   "outputs": [],
   "source": [
    "y_train = df_train['isFraud']"
   ]
  },
  {
   "cell_type": "code",
   "execution_count": 22,
   "metadata": {},
   "outputs": [],
   "source": [
    "del df_train['isFraud']\n",
    "x_train = df_train"
   ]
  },
  {
   "cell_type": "code",
   "execution_count": null,
   "metadata": {},
   "outputs": [],
   "source": []
  },
  {
   "cell_type": "code",
   "execution_count": 23,
   "metadata": {},
   "outputs": [],
   "source": [
    "x_test = df_test"
   ]
  },
  {
   "cell_type": "code",
   "execution_count": 24,
   "metadata": {},
   "outputs": [
    {
     "data": {
      "text/plain": [
       "(590540,)"
      ]
     },
     "execution_count": 24,
     "metadata": {},
     "output_type": "execute_result"
    }
   ],
   "source": [
    "y_train.shape"
   ]
  },
  {
   "cell_type": "code",
   "execution_count": 25,
   "metadata": {},
   "outputs": [],
   "source": [
    "scaler = StandardScaler()\n",
    "scaler.fit(np.concatenate([x_train, x_test]))\n",
    "scaled_x_train = scaler.transform(x_train)\n",
    "scaled_x_test = scaler.transform(x_test)"
   ]
  },
  {
   "cell_type": "code",
   "execution_count": null,
   "metadata": {},
   "outputs": [],
   "source": [
    "# Bayesopt\n",
    "df_train.to_pickle(\"../Data/Training_set_bayesopt.pkl\")\n",
    "df_test.to_pickle(\"../Data/Test_set_bayesopt.pkl\")\n",
    "Y_train.to_pickle(\"../Data/Training_set_Y_bayesopt.pkl\")"
   ]
  },
  {
   "cell_type": "code",
   "execution_count": null,
   "metadata": {},
   "outputs": [],
   "source": [
    "scaled_x_train.shape"
   ]
  },
  {
   "cell_type": "code",
   "execution_count": null,
   "metadata": {},
   "outputs": [],
   "source": [
    "scaled_x_test.shape"
   ]
  },
  {
   "cell_type": "code",
   "execution_count": 26,
   "metadata": {},
   "outputs": [
    {
     "name": "stderr",
     "output_type": "stream",
     "text": [
      "/Users/ic3scar/anaconda3/lib/python3.7/site-packages/lightgbm/__init__.py:46: UserWarning: Starting from version 2.2.1, the library file in distribution wheels for macOS is built by the Apple Clang (Xcode_8.3.3) compiler.\n",
      "This means that in case of installing LightGBM from PyPI via the ``pip install lightgbm`` command, you don't need to install the gcc compiler anymore.\n",
      "Instead of that, you need to install the OpenMP library, which is required for running LightGBM on the system with the Apple Clang compiler.\n",
      "You can install the OpenMP library by the following command: ``brew install libomp``.\n",
      "  \"You can install the OpenMP library by the following command: ``brew install libomp``.\", UserWarning)\n"
     ]
    }
   ],
   "source": [
    "from sklearn.preprocessing import StandardScaler\n",
    "from sklearn.model_selection import train_test_split\n",
    "import lightgbm as lgb\n",
    "from sklearn.metrics import roc_auc_score\n",
    "from bayes_opt import BayesianOptimization"
   ]
  },
  {
   "cell_type": "code",
   "execution_count": 27,
   "metadata": {},
   "outputs": [],
   "source": [
    "X_train, X_cv, Y_train, Y_cv = train_test_split(scaled_x_train, y_train, test_size=0.3)"
   ]
  },
  {
   "cell_type": "code",
   "execution_count": 28,
   "metadata": {},
   "outputs": [
    {
     "name": "stdout",
     "output_type": "stream",
     "text": [
      "(413378, 355)\n",
      "(177162, 355)\n",
      "(506691, 355)\n",
      "(413378,)\n",
      "(177162,)\n"
     ]
    }
   ],
   "source": [
    "print(X_train.shape)\n",
    "print(X_cv.shape)\n",
    "print(scaled_x_test.shape)\n",
    "print(Y_train.shape)\n",
    "print(Y_cv.shape)"
   ]
  },
  {
   "cell_type": "code",
   "execution_count": 29,
   "metadata": {},
   "outputs": [],
   "source": [
    "X_test = scaled_x_test"
   ]
  },
  {
   "cell_type": "code",
   "execution_count": 30,
   "metadata": {},
   "outputs": [],
   "source": [
    "with open(\"../Data/X_train_v5.pkl\", \"wb\") as handle:\n",
    "    pickle.dump(X_train, handle)\n",
    "with open(\"../Data/X_cv_v5.pkl\", \"wb\") as handle:\n",
    "    pickle.dump(X_cv, handle)\n",
    "with open(\"../Data/X_test_v5.pkl\", \"wb\") as handle:\n",
    "    pickle.dump(X_test, handle)\n",
    "with open(\"../Data/Y_train_v5.pkl\", \"wb\") as handle:\n",
    "    pickle.dump(Y_train, handle)\n",
    "with open(\"../Data/Y_cv_v5.pkl\", \"wb\") as handle:\n",
    "    pickle.dump(Y_cv, handle)"
   ]
  },
  {
   "cell_type": "code",
   "execution_count": null,
   "metadata": {},
   "outputs": [],
   "source": [
    "# Learnt from https://www.kaggle.com/pavelvpster/ieee-fraud-eda-lightgbm-baseline/notebook"
   ]
  },
  {
   "cell_type": "code",
   "execution_count": 31,
   "metadata": {},
   "outputs": [],
   "source": [
    "lgb_train = lgb.Dataset(data=X_train.astype('float32'), label=Y_train.astype('float32'))\n",
    "lgb_valid = lgb.Dataset(data=X_cv.astype('float32'), label=Y_cv.astype('float32'))"
   ]
  },
  {
   "cell_type": "code",
   "execution_count": 32,
   "metadata": {},
   "outputs": [],
   "source": [
    "def train_model(num_leaves, min_data_in_leaf, max_depth, bagging_fraction, feature_fraction, lambda_l1, lambda_l2):\n",
    "    params = {\n",
    "        'objective': 'binary',\n",
    "        'metric': 'auc',\n",
    "        'is_unbalance': False,\n",
    "        'boost_from_average': True,\n",
    "        'num_threads': 4,\n",
    "        \n",
    "        'num_leaves': int(num_leaves),\n",
    "        'min_data_in_leaf': int(min_data_in_leaf),\n",
    "        'max_depth': int(max_depth),\n",
    "        'bagging_fraction' : bagging_fraction,\n",
    "        'feature_fraction' : feature_fraction,\n",
    "        'lambda_l1': lambda_l1,\n",
    "        'lambda_l2': lambda_l2\n",
    "    }\n",
    "    \n",
    "    lgb_model = lgb.train(params, lgb_train, valid_sets=lgb_valid, verbose_eval=1000)\n",
    "    \n",
    "    y = lgb_model.predict(X_cv.astype('float32'), num_iteration=lgb_model.best_iteration)\n",
    "    \n",
    "    score = roc_auc_score(Y_cv.astype('float32'), y)\n",
    "    return score"
   ]
  },
  {
   "cell_type": "code",
   "execution_count": 33,
   "metadata": {},
   "outputs": [],
   "source": [
    "bounds = {\n",
    "    'num_leaves': (31, 500),\n",
    "    'min_data_in_leaf': (20, 200),\n",
    "    'max_depth':(-1, 50),\n",
    "    'bagging_fraction' : (0.1, 0.9),\n",
    "    'feature_fraction' : (0.1, 0.9),\n",
    "    'lambda_l1': (0, 2),\n",
    "    'lambda_l2': (0, 2)\n",
    "}"
   ]
  },
  {
   "cell_type": "code",
   "execution_count": 34,
   "metadata": {},
   "outputs": [],
   "source": [
    "bo = BayesianOptimization(train_model, bounds, random_state=42)"
   ]
  },
  {
   "cell_type": "code",
   "execution_count": 35,
   "metadata": {},
   "outputs": [
    {
     "name": "stdout",
     "output_type": "stream",
     "text": [
      "|   iter    |  target   | baggin... | featur... | lambda_l1 | lambda_l2 | max_depth | min_da... | num_le... |\n",
      "-------------------------------------------------------------------------------------------------------------\n",
      "| \u001b[0m 1       \u001b[0m | \u001b[0m 0.9211  \u001b[0m | \u001b[0m 0.3996  \u001b[0m | \u001b[0m 0.8606  \u001b[0m | \u001b[0m 1.464   \u001b[0m | \u001b[0m 1.197   \u001b[0m | \u001b[0m 6.957   \u001b[0m | \u001b[0m 48.08   \u001b[0m | \u001b[0m 58.24   \u001b[0m |\n",
      "| \u001b[95m 2       \u001b[0m | \u001b[95m 0.9537  \u001b[0m | \u001b[95m 0.7929  \u001b[0m | \u001b[95m 0.5809  \u001b[0m | \u001b[95m 1.416   \u001b[0m | \u001b[95m 0.04117 \u001b[0m | \u001b[95m 48.47   \u001b[0m | \u001b[95m 169.8   \u001b[0m | \u001b[95m 130.6   \u001b[0m |\n",
      "| \u001b[95m 3       \u001b[0m | \u001b[95m 0.9594  \u001b[0m | \u001b[95m 0.2455  \u001b[0m | \u001b[95m 0.2467  \u001b[0m | \u001b[95m 0.6085  \u001b[0m | \u001b[95m 1.05    \u001b[0m | \u001b[95m 21.03   \u001b[0m | \u001b[95m 72.42   \u001b[0m | \u001b[95m 318.0   \u001b[0m |\n",
      "| \u001b[95m 4       \u001b[0m | \u001b[95m 0.9613  \u001b[0m | \u001b[95m 0.2116  \u001b[0m | \u001b[95m 0.3337  \u001b[0m | \u001b[95m 0.7327  \u001b[0m | \u001b[95m 0.9121  \u001b[0m | \u001b[95m 39.04   \u001b[0m | \u001b[95m 55.94   \u001b[0m | \u001b[95m 272.2   \u001b[0m |\n",
      "| \u001b[0m 5       \u001b[0m | \u001b[0m 0.872   \u001b[0m | \u001b[0m 0.5739  \u001b[0m | \u001b[0m 0.1372  \u001b[0m | \u001b[0m 1.215   \u001b[0m | \u001b[0m 0.341   \u001b[0m | \u001b[0m 2.318   \u001b[0m | \u001b[0m 190.8   \u001b[0m | \u001b[0m 483.9   \u001b[0m |\n",
      "| \u001b[0m 6       \u001b[0m | \u001b[0m 0.9591  \u001b[0m | \u001b[0m 0.7467  \u001b[0m | \u001b[0m 0.3437  \u001b[0m | \u001b[0m 0.1953  \u001b[0m | \u001b[0m 1.368   \u001b[0m | \u001b[0m 21.45   \u001b[0m | \u001b[0m 41.97   \u001b[0m | \u001b[0m 263.2   \u001b[0m |\n",
      "| \u001b[0m 7       \u001b[0m | \u001b[0m 0.9576  \u001b[0m | \u001b[0m 0.1275  \u001b[0m | \u001b[0m 0.8275  \u001b[0m | \u001b[0m 0.5176  \u001b[0m | \u001b[0m 1.325   \u001b[0m | \u001b[0m 14.9    \u001b[0m | \u001b[0m 113.6   \u001b[0m | \u001b[0m 287.4   \u001b[0m |\n",
      "| \u001b[95m 8       \u001b[0m | \u001b[95m 0.9641  \u001b[0m | \u001b[95m 0.2479  \u001b[0m | \u001b[95m 0.8757  \u001b[0m | \u001b[95m 1.55    \u001b[0m | \u001b[95m 1.879   \u001b[0m | \u001b[95m 44.64   \u001b[0m | \u001b[95m 127.6   \u001b[0m | \u001b[95m 463.4   \u001b[0m |\n",
      "| \u001b[0m 9       \u001b[0m | \u001b[0m 0.9626  \u001b[0m | \u001b[0m 0.1708  \u001b[0m | \u001b[0m 0.2568  \u001b[0m | \u001b[0m 0.09045 \u001b[0m | \u001b[0m 0.6507  \u001b[0m | \u001b[0m 18.82   \u001b[0m | \u001b[0m 68.84   \u001b[0m | \u001b[0m 419.7   \u001b[0m |\n",
      "| \u001b[95m 10      \u001b[0m | \u001b[95m 0.965   \u001b[0m | \u001b[95m 0.3854  \u001b[0m | \u001b[95m 0.3247  \u001b[0m | \u001b[95m 1.085   \u001b[0m | \u001b[95m 0.2818  \u001b[0m | \u001b[95m 39.91   \u001b[0m | \u001b[95m 33.42   \u001b[0m | \u001b[95m 493.8   \u001b[0m |\n",
      "| \u001b[0m 11      \u001b[0m | \u001b[0m 0.9613  \u001b[0m | \u001b[0m 0.7178  \u001b[0m | \u001b[0m 0.259   \u001b[0m | \u001b[0m 0.01104 \u001b[0m | \u001b[0m 1.631   \u001b[0m | \u001b[0m 35.05   \u001b[0m | \u001b[0m 151.2   \u001b[0m | \u001b[0m 392.7   \u001b[0m |\n",
      "| \u001b[0m 12      \u001b[0m | \u001b[0m 0.9375  \u001b[0m | \u001b[0m 0.1592  \u001b[0m | \u001b[0m 0.3868  \u001b[0m | \u001b[0m 0.2317  \u001b[0m | \u001b[0m 1.726   \u001b[0m | \u001b[0m 30.79   \u001b[0m | \u001b[0m 79.56   \u001b[0m | \u001b[0m 60.81   \u001b[0m |\n",
      "| \u001b[0m 13      \u001b[0m | \u001b[0m 0.9443  \u001b[0m | \u001b[0m 0.3488  \u001b[0m | \u001b[0m 0.3601  \u001b[0m | \u001b[0m 1.459   \u001b[0m | \u001b[0m 1.275   \u001b[0m | \u001b[0m 44.25   \u001b[0m | \u001b[0m 105.0   \u001b[0m | \u001b[0m 87.09   \u001b[0m |\n",
      "| \u001b[0m 14      \u001b[0m | \u001b[0m 0.9587  \u001b[0m | \u001b[0m 0.6706  \u001b[0m | \u001b[0m 0.7086  \u001b[0m | \u001b[0m 1.123   \u001b[0m | \u001b[0m 1.542   \u001b[0m | \u001b[0m 24.18   \u001b[0m | \u001b[0m 114.1   \u001b[0m | \u001b[0m 231.5   \u001b[0m |\n",
      "| \u001b[0m 15      \u001b[0m | \u001b[0m 0.9585  \u001b[0m | \u001b[0m 0.1203  \u001b[0m | \u001b[0m 0.1863  \u001b[0m | \u001b[0m 0.06286 \u001b[0m | \u001b[0m 1.273   \u001b[0m | \u001b[0m 15.03   \u001b[0m | \u001b[0m 111.5   \u001b[0m | \u001b[0m 456.6   \u001b[0m |\n",
      "| \u001b[0m 16      \u001b[0m | \u001b[0m 0.8983  \u001b[0m | \u001b[0m 0.6071  \u001b[0m | \u001b[0m 0.5898  \u001b[0m | \u001b[0m 0.02192 \u001b[0m | \u001b[0m 1.726   \u001b[0m | \u001b[0m 4.507   \u001b[0m | \u001b[0m 198.8   \u001b[0m | \u001b[0m 33.49   \u001b[0m |\n",
      "| \u001b[0m 17      \u001b[0m | \u001b[0m 0.9254  \u001b[0m | \u001b[0m 0.5794  \u001b[0m | \u001b[0m 0.2021  \u001b[0m | \u001b[0m 1.305   \u001b[0m | \u001b[0m 1.251   \u001b[0m | \u001b[0m 49.77   \u001b[0m | \u001b[0m 20.02   \u001b[0m | \u001b[0m 38.71   \u001b[0m |\n",
      "| \u001b[0m 18      \u001b[0m | \u001b[0m 0.9595  \u001b[0m | \u001b[0m 0.7837  \u001b[0m | \u001b[0m 0.5492  \u001b[0m | \u001b[0m 0.1252  \u001b[0m | \u001b[0m 1.939   \u001b[0m | \u001b[0m 49.3    \u001b[0m | \u001b[0m 189.0   \u001b[0m | \u001b[0m 251.9   \u001b[0m |\n",
      "| \u001b[0m 19      \u001b[0m | \u001b[0m 0.9632  \u001b[0m | \u001b[0m 0.4325  \u001b[0m | \u001b[0m 0.2524  \u001b[0m | \u001b[0m 0.002243\u001b[0m | \u001b[0m 1.576   \u001b[0m | \u001b[0m 49.56   \u001b[0m | \u001b[0m 70.49   \u001b[0m | \u001b[0m 461.8   \u001b[0m |\n",
      "| \u001b[95m 20      \u001b[0m | \u001b[95m 0.9678  \u001b[0m | \u001b[95m 0.2362  \u001b[0m | \u001b[95m 0.8827  \u001b[0m | \u001b[95m 0.1434  \u001b[0m | \u001b[95m 0.636   \u001b[0m | \u001b[95m-0.8865  \u001b[0m | \u001b[95m 20.17   \u001b[0m | \u001b[95m 496.3   \u001b[0m |\n",
      "| \u001b[0m 21      \u001b[0m | \u001b[0m 0.9641  \u001b[0m | \u001b[0m 0.2059  \u001b[0m | \u001b[0m 0.5773  \u001b[0m | \u001b[0m 1.765   \u001b[0m | \u001b[0m 0.01067 \u001b[0m | \u001b[0m 49.98   \u001b[0m | \u001b[0m 121.4   \u001b[0m | \u001b[0m 351.6   \u001b[0m |\n",
      "| \u001b[0m 22      \u001b[0m | \u001b[0m 0.9672  \u001b[0m | \u001b[0m 0.1209  \u001b[0m | \u001b[0m 0.7771  \u001b[0m | \u001b[0m 0.2269  \u001b[0m | \u001b[0m 1.073   \u001b[0m | \u001b[0m 47.4    \u001b[0m | \u001b[0m 91.11   \u001b[0m | \u001b[0m 499.4   \u001b[0m |\n",
      "| \u001b[0m 23      \u001b[0m | \u001b[0m 0.9599  \u001b[0m | \u001b[0m 0.7366  \u001b[0m | \u001b[0m 0.4351  \u001b[0m | \u001b[0m 0.08975 \u001b[0m | \u001b[0m 1.861   \u001b[0m | \u001b[0m 49.91   \u001b[0m | \u001b[0m 116.9   \u001b[0m | \u001b[0m 253.4   \u001b[0m |\n",
      "| \u001b[0m 24      \u001b[0m | \u001b[0m 0.9604  \u001b[0m | \u001b[0m 0.3322  \u001b[0m | \u001b[0m 0.712   \u001b[0m | \u001b[0m 0.1091  \u001b[0m | \u001b[0m 0.2672  \u001b[0m | \u001b[0m 49.05   \u001b[0m | \u001b[0m 23.74   \u001b[0m | \u001b[0m 183.6   \u001b[0m |\n",
      "| \u001b[0m 25      \u001b[0m | \u001b[0m 0.9638  \u001b[0m | \u001b[0m 0.5735  \u001b[0m | \u001b[0m 0.5739  \u001b[0m | \u001b[0m 1.902   \u001b[0m | \u001b[0m 1.905   \u001b[0m | \u001b[0m 19.75   \u001b[0m | \u001b[0m 56.22   \u001b[0m | \u001b[0m 496.9   \u001b[0m |\n",
      "| \u001b[0m 26      \u001b[0m | \u001b[0m 0.9579  \u001b[0m | \u001b[0m 0.5586  \u001b[0m | \u001b[0m 0.6003  \u001b[0m | \u001b[0m 0.006504\u001b[0m | \u001b[0m 0.2442  \u001b[0m | \u001b[0m-0.5536  \u001b[0m | \u001b[0m 197.8   \u001b[0m | \u001b[0m 183.0   \u001b[0m |\n",
      "| \u001b[0m 27      \u001b[0m | \u001b[0m 0.9651  \u001b[0m | \u001b[0m 0.8164  \u001b[0m | \u001b[0m 0.3943  \u001b[0m | \u001b[0m 0.1293  \u001b[0m | \u001b[0m 0.01867 \u001b[0m | \u001b[0m 48.4    \u001b[0m | \u001b[0m 113.9   \u001b[0m | \u001b[0m 420.5   \u001b[0m |\n",
      "| \u001b[0m 28      \u001b[0m | \u001b[0m 0.9656  \u001b[0m | \u001b[0m 0.1614  \u001b[0m | \u001b[0m 0.8635  \u001b[0m | \u001b[0m 1.458   \u001b[0m | \u001b[0m 0.9589  \u001b[0m | \u001b[0m-0.2768  \u001b[0m | \u001b[0m 20.41   \u001b[0m | \u001b[0m 388.6   \u001b[0m |\n",
      "| \u001b[0m 29      \u001b[0m | \u001b[0m 0.9641  \u001b[0m | \u001b[0m 0.1539  \u001b[0m | \u001b[0m 0.7485  \u001b[0m | \u001b[0m 0.001953\u001b[0m | \u001b[0m 1.986   \u001b[0m | \u001b[0m 47.74   \u001b[0m | \u001b[0m 24.72   \u001b[0m | \u001b[0m 333.4   \u001b[0m |\n",
      "| \u001b[0m 30      \u001b[0m | \u001b[0m 0.9586  \u001b[0m | \u001b[0m 0.3774  \u001b[0m | \u001b[0m 0.4106  \u001b[0m | \u001b[0m 1.771   \u001b[0m | \u001b[0m 1.85    \u001b[0m | \u001b[0m 49.72   \u001b[0m | \u001b[0m 20.35   \u001b[0m | \u001b[0m 252.4   \u001b[0m |\n",
      "| \u001b[0m 31      \u001b[0m | \u001b[0m 0.8883  \u001b[0m | \u001b[0m 0.3957  \u001b[0m | \u001b[0m 0.8476  \u001b[0m | \u001b[0m 0.6876  \u001b[0m | \u001b[0m 1.272   \u001b[0m | \u001b[0m 3.749   \u001b[0m | \u001b[0m 20.32   \u001b[0m | \u001b[0m 445.1   \u001b[0m |\n",
      "| \u001b[0m 32      \u001b[0m | \u001b[0m 0.9587  \u001b[0m | \u001b[0m 0.7193  \u001b[0m | \u001b[0m 0.2898  \u001b[0m | \u001b[0m 1.776   \u001b[0m | \u001b[0m 0.4951  \u001b[0m | \u001b[0m-0.5694  \u001b[0m | \u001b[0m 198.7   \u001b[0m | \u001b[0m 314.0   \u001b[0m |\n",
      "| \u001b[0m 33      \u001b[0m | \u001b[0m 0.9248  \u001b[0m | \u001b[0m 0.5078  \u001b[0m | \u001b[0m 0.1826  \u001b[0m | \u001b[0m 0.7141  \u001b[0m | \u001b[0m 1.914   \u001b[0m | \u001b[0m 48.52   \u001b[0m | \u001b[0m 199.1   \u001b[0m | \u001b[0m 40.26   \u001b[0m |\n",
      "| \u001b[0m 34      \u001b[0m | \u001b[0m 0.9639  \u001b[0m | \u001b[0m 0.4668  \u001b[0m | \u001b[0m 0.4359  \u001b[0m | \u001b[0m 0.6496  \u001b[0m | \u001b[0m 0.1234  \u001b[0m | \u001b[0m 49.71   \u001b[0m | \u001b[0m 199.7   \u001b[0m | \u001b[0m 386.4   \u001b[0m |\n",
      "| \u001b[0m 35      \u001b[0m | \u001b[0m 0.9569  \u001b[0m | \u001b[0m 0.5657  \u001b[0m | \u001b[0m 0.7398  \u001b[0m | \u001b[0m 1.639   \u001b[0m | \u001b[0m 1.0     \u001b[0m | \u001b[0m-0.86    \u001b[0m | \u001b[0m 22.78   \u001b[0m | \u001b[0m 163.2   \u001b[0m |\n",
      "=============================================================================================================\n"
     ]
    }
   ],
   "source": [
    "bo.maximize(init_points=15, n_iter=20, acq='ucb', xi=0.0, alpha=1e-6)\n",
    "# Better result with init_points = 10, n_iter = 15"
   ]
  },
  {
   "cell_type": "code",
   "execution_count": 36,
   "metadata": {},
   "outputs": [
    {
     "data": {
      "text/plain": [
       "{'target': 0.9677522234843334,\n",
       " 'params': {'bagging_fraction': 0.2361566219536183,\n",
       "  'feature_fraction': 0.8827352739316682,\n",
       "  'lambda_l1': 0.14338670269497222,\n",
       "  'lambda_l2': 0.6360069207133299,\n",
       "  'max_depth': -0.8865391091043682,\n",
       "  'min_data_in_leaf': 20.170459833392037,\n",
       "  'num_leaves': 496.2856522498901}}"
      ]
     },
     "execution_count": 36,
     "metadata": {},
     "output_type": "execute_result"
    }
   ],
   "source": [
    "bo.max"
   ]
  },
  {
   "cell_type": "code",
   "execution_count": 37,
   "metadata": {},
   "outputs": [],
   "source": [
    "params = {\n",
    "    'objective': 'binary',\n",
    "    'metric': 'auc',\n",
    "    'is_unbalance': False,\n",
    "    'boost_from_average': True,\n",
    "    'num_threads': 4,\n",
    "    \n",
    "    'num_leaves': int(bo.max['params']['num_leaves']),\n",
    "    'min_data_in_leaf': int(bo.max['params']['min_data_in_leaf']),\n",
    "    'max_depth': int(bo.max['params']['max_depth']),\n",
    "    'bagging_fraction' : bo.max['params']['bagging_fraction'],\n",
    "    'feature_fraction' : bo.max['params']['feature_fraction'],\n",
    "    'lambda_l1': bo.max['params']['lambda_l1'],\n",
    "    'lambda_l2': bo.max['params']['lambda_l2']\n",
    "}\n",
    "\n",
    "lgb_model = lgb.train(params, lgb_train, valid_sets=lgb_valid, verbose_eval=1000)"
   ]
  },
  {
   "cell_type": "code",
   "execution_count": 38,
   "metadata": {},
   "outputs": [],
   "source": [
    "Y_pred = lgb_model.predict(X_test.astype('float32'), num_iteration=lgb_model.best_iteration)"
   ]
  },
  {
   "cell_type": "code",
   "execution_count": 39,
   "metadata": {},
   "outputs": [
    {
     "data": {
      "text/plain": [
       "13459.403621437388"
      ]
     },
     "execution_count": 39,
     "metadata": {},
     "output_type": "execute_result"
    }
   ],
   "source": [
    "Y_pred.sum()"
   ]
  },
  {
   "cell_type": "code",
   "execution_count": 40,
   "metadata": {},
   "outputs": [],
   "source": [
    "submission = pd.read_csv('../Data/sample_submission.csv', index_col='TransactionID')\n",
    "submission['isFraud'] = Y_pred\n",
    "submission.to_csv('../Data/Y_test_v5.csv')"
   ]
  },
  {
   "cell_type": "code",
   "execution_count": 48,
   "metadata": {},
   "outputs": [
    {
     "data": {
      "image/png": "[encoded data removed]",
      "text/plain": [
       "<Figure size 1440x1440 with 1 Axes>"
      ]
     },
     "metadata": {
      "needs_background": "light"
     },
     "output_type": "display_data"
    }
   ],
   "source": [
    "feature_importance_df = pd.concat([\n",
    "    pd.Series(df_train.columns),\n",
    "    pd.Series(lgb_model.feature_importance())], axis=1)\n",
    "feature_importance_df.columns = ['featureName', 'importance']\n",
    "\n",
    "# get top 100 features sorted by importance descending\n",
    "temp = feature_importance_df.sort_values(by=['importance'], ascending=False).head(100)\n",
    "\n",
    "plt.figure(figsize=(20, 20))\n",
    "sns.barplot(x=\"importance\", y=\"featureName\", data=temp)\n",
    "plt.xlabel(\"Importance\", fontsize = 18)\n",
    "plt.ylabel(\"FeatureName\", fontsize = 18)\n",
    "plt.show()"
   ]
  },
  {
   "cell_type": "code",
   "execution_count": null,
   "metadata": {},
   "outputs": [],
   "source": []
  }
 ],
 "metadata": {
  "kernelspec": {
   "display_name": "Python 3",
   "language": "python",
   "name": "python3"
  },
  "language_info": {
   "codemirror_mode": {
    "name": "ipython",
    "version": 3
   },
   "file_extension": ".py",
   "mimetype": "text/x-python",
   "name": "python",
   "nbconvert_exporter": "python",
   "pygments_lexer": "ipython3",
   "version": "3.7.3"
  }
 },
 "nbformat": 4,
 "nbformat_minor": 2
}
